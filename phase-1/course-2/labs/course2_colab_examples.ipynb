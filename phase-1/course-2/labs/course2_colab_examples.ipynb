{
 "cells": [
  {
   "cell_type": "markdown",
   "id": "b691db61",
   "metadata": {},
   "source": [
    "# Course 2: Linear Regression Colab Example\\n\n",
    "This lightweight Colab notebook shows a small, runnable linear regression pipeline (synthetic data) using scikit-learn."
   ]
  },
  {
   "cell_type": "code",
   "execution_count": null,
   "id": "d81f3807",
   "metadata": {},
   "outputs": [],
   "source": [
    "import numpy as np\\n\n",
    "import matplotlib.pyplot as plt\\n\n",
    "from sklearn.linear_model import LinearRegression\\n\n",
    "from sklearn.model_selection import train_test_split\\n\n",
    "from sklearn.metrics import mean_squared_error"
   ]
  },
  {
   "cell_type": "code",
   "execution_count": null,
   "id": "1010db91",
   "metadata": {},
   "outputs": [],
   "source": [
    "# Generate synthetic data: price = 50 * size + noise\\n\n",
    "rng = np.random.RandomState(42)\\n\n",
    "X = rng.rand(200,1) * 100  # size (sq ft)\\n\n",
    "y = 50 * X.ravel() + (rng.randn(200) * 2000)  # price with noise\\n\n",
    "X_train, X_test, y_train, y_test = train_test_split(X, y, test_size=0.2, random_state=1)"
   ]
  },
  {
   "cell_type": "code",
   "execution_count": null,
   "id": "1602f12e",
   "metadata": {},
   "outputs": [],
   "source": [
    "model = LinearRegression()\\n\n",
    "model.fit(X_train, y_train)\\n\n",
    "pred = model.predict(X_test)\\n\n",
    "print('Coef:', model.coef_, 'Intercept:', model.intercept_)\\n\n",
    "print('MSE:', mean_squared_error(y_test, pred))"
   ]
  },
  {
   "cell_type": "code",
   "execution_count": null,
   "id": "a835a224",
   "metadata": {},
   "outputs": [],
   "source": [
    "plt.scatter(X_test, y_test, alpha=0.6, label='data')\\n\n",
    "plt.plot(X_test, pred, 'r.', label='predictions')\\n\n",
    "plt.xlabel('Size (sq ft)')\\n\n",
    "plt.ylabel('Price')\\n\n",
    "plt.legend()\\n\n",
    "plt.show()"
   ]
  }
 ],
 "metadata": {
  "language_info": {
   "name": "python"
  }
 },
 "nbformat": 4,
 "nbformat_minor": 5
}
