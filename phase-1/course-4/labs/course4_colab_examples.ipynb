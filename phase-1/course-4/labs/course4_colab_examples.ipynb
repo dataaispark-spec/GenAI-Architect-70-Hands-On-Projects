{
 "cells": [
  {
   "cell_type": "markdown",
   "id": "a8f22f2f",
   "metadata": {},
   "source": [
    "# Course 4: Tiny Keras MNIST Example (Colab-ready)\n",
    "This small notebook trains a simple CNN on MNIST. It's designed to run in Colab; change epochs to 1-3 for quick runs."
   ]
  },
  {
   "cell_type": "code",
   "execution_count": null,
   "id": "8b61e95e",
   "metadata": {},
   "outputs": [],
   "source": [
    "import tensorflow as tf\n",
    "from tensorflow import keras\n",
    "import numpy as np\n",
    "import matplotlib.pyplot as plt"
   ]
  },
  {
   "cell_type": "code",
   "execution_count": null,
   "id": "e4736f65",
   "metadata": {},
   "outputs": [],
   "source": [
    "(x_train, y_train), (x_test, y_test) = keras.datasets.mnist.load_data()\n",
    "x_train = x_train.astype('float32')/255.0\n",
    "x_test = x_test.astype('float32')/255.0\n",
    "x_train = x_train[..., None]\n",
    "x_test = x_test[..., None]\n",
    "y_train = keras.utils.to_categorical(y_train, 10)\n",
    "y_test = keras.utils.to_categorical(y_test, 10)\n",
    "print('Shapes:', x_train.shape, y_train.shape)"
   ]
  },
  {
   "cell_type": "code",
   "execution_count": null,
   "id": "25d98735",
   "metadata": {},
   "outputs": [],
   "source": [
    "model = keras.Sequential([keras.layers.Conv2D(16, 3, activation='relu', input_shape=x_train.shape[1:]), keras.layers.MaxPooling2D(), keras.layers.Flatten(), keras.layers.Dense(32, activation='relu'), keras.layers.Dense(10, activation='softmax')])\n",
    "model.compile(optimizer='adam', loss='categorical_crossentropy', metrics=['accuracy'])\n",
    "model.summary()"
   ]
  },
  {
   "cell_type": "code",
   "execution_count": null,
   "id": "0ec0255b",
   "metadata": {},
   "outputs": [],
   "source": [
    "history = model.fit(x_train[:20000], y_train[:20000], epochs=2, batch_size=128, validation_split=0.1)\n",
    "print('Eval:', model.evaluate(x_test[:5000], y_test[:5000], verbose=0))"
   ]
  },
  {
   "cell_type": "code",
   "execution_count": null,
   "id": "d08c90db",
   "metadata": {},
   "outputs": [],
   "source": [
    "# Visualize a couple of predictions\n",
    "preds = model.predict(x_test[:9])\n",
    "fig, axes = plt.subplots(3,3,figsize=(6,6))\n",
    "for i, ax in enumerate(axes.ravel()):\n",
    "    ax.imshow(x_test[i].squeeze(), cmap='gray')\n",
    "    ax.set_title('pred:'+str(np.argmax(preds[i])))\n",
    "    ax.axis('off')\n",
    "plt.show()"
   ]
  }
 ],
 "metadata": {
  "language_info": {
   "name": "python"
  }
 },
 "nbformat": 4,
 "nbformat_minor": 5
}
