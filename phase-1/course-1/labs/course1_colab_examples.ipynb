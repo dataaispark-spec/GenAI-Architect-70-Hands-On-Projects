{
 "cells": [
  {
   "cell_type": "markdown",
   "id": "abd1ad91",
   "metadata": {},
   "source": [
    "# Course 1: Quickstart Colab Examples (Beginner-friendly, playful)\\n\n",
    "This notebook demonstrates tiny examples tied to Course 1 concepts: Python basics, a rule-based 'AI', and a playful intro to arrays. Designed for Google Colab."
   ]
  },
  {
   "cell_type": "code",
   "execution_count": null,
   "id": "03a24360",
   "metadata": {},
   "outputs": [],
   "source": [
    "# Hello world in Python - the classic confidence booster\\n\n",
    "print('Hello, future GenAI Architect!')"
   ]
  },
  {
   "cell_type": "code",
   "execution_count": null,
   "id": "15338816",
   "metadata": {},
   "outputs": [],
   "source": [
    "# Tiny rule-based 'AI' - still more honest than some marketing slides\\n\n",
    "def fruit_classifier(features):\\n\n",
    "    if features.get('color') == 'red' and features.get('shape') == 'round':\\n\n",
    "        return 'Apple 🍎'\\n\n",
    "    if features.get('color') == 'yellow' and features.get('size', 0) > 5:\\n\n",
    "        return 'Banana 🍌'\\n\n",
    "    return 'Unknown fruit 🤔'\\n\n",
    "\\n\n",
    "samples = [{'color':'red','shape':'round'},{'color':'yellow','size':6},{'color':'green'}]\\n\n",
    "for s in samples:\\n\n",
    "    print(s, '->', fruit_classifier(s))"
   ]
  },
  {
   "cell_type": "code",
   "execution_count": null,
   "id": "7f180cd0",
   "metadata": {},
   "outputs": [],
   "source": [
    "# Numpy quick demo - arrays are just lists that went to the gym\\n\n",
    "import numpy as np\\n\n",
    "a = np.array([1,2,3,4])\\n\n",
    "print('Array:', a)\\n\n",
    "print('Mean:', a.mean())"
   ]
  }
 ],
 "metadata": {
  "language_info": {
   "name": "python"
  }
 },
 "nbformat": 4,
 "nbformat_minor": 5
}
